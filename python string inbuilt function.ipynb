{
 "cells": [
  {
   "cell_type": "code",
   "execution_count": 1,
   "id": "85d7879a-5897-42b3-a022-b80d401bc930",
   "metadata": {},
   "outputs": [],
   "source": [
    "s = 'sudh'"
   ]
  },
  {
   "cell_type": "code",
   "execution_count": 2,
   "id": "aeb0f801-fca9-48e7-96b0-74d129aba827",
   "metadata": {},
   "outputs": [
    {
     "data": {
      "text/plain": [
       "str"
      ]
     },
     "execution_count": 2,
     "metadata": {},
     "output_type": "execute_result"
    }
   ],
   "source": [
    "type(s)"
   ]
  },
  {
   "cell_type": "code",
   "execution_count": 3,
   "id": "37b47fd3-8f57-4c85-8629-cb384fb531c7",
   "metadata": {},
   "outputs": [],
   "source": [
    "s1 = \"this is my string inbuilt class\""
   ]
  },
  {
   "cell_type": "code",
   "execution_count": 4,
   "id": "e1df60ab-79b0-46b8-b69f-fa1fb093a0b1",
   "metadata": {},
   "outputs": [
    {
     "data": {
      "text/plain": [
       "str"
      ]
     },
     "execution_count": 4,
     "metadata": {},
     "output_type": "execute_result"
    }
   ],
   "source": [
    "type(s1)"
   ]
  },
  {
   "cell_type": "code",
   "execution_count": 5,
   "id": "80af52c7-3970-4578-a198-d31dc7e35c34",
   "metadata": {},
   "outputs": [
    {
     "data": {
      "text/plain": [
       "4"
      ]
     },
     "execution_count": 5,
     "metadata": {},
     "output_type": "execute_result"
    }
   ],
   "source": [
    "len(s)"
   ]
  },
  {
   "cell_type": "code",
   "execution_count": 6,
   "id": "c5ca869b-24cd-4e26-8fe1-a5546de3b0e6",
   "metadata": {},
   "outputs": [
    {
     "data": {
      "text/plain": [
       "'sudh'"
      ]
     },
     "execution_count": 6,
     "metadata": {},
     "output_type": "execute_result"
    }
   ],
   "source": [
    "s"
   ]
  },
  {
   "cell_type": "code",
   "execution_count": 7,
   "id": "6a12a48e-46f9-49eb-b7fc-ad3aa5712cd7",
   "metadata": {},
   "outputs": [
    {
     "data": {
      "text/plain": [
       "31"
      ]
     },
     "execution_count": 7,
     "metadata": {},
     "output_type": "execute_result"
    }
   ],
   "source": [
    "len(s1)"
   ]
  },
  {
   "cell_type": "code",
   "execution_count": 8,
   "id": "2a8c679d-9108-4cc8-b824-637f2490cd2a",
   "metadata": {},
   "outputs": [
    {
     "data": {
      "text/plain": [
       "0"
      ]
     },
     "execution_count": 8,
     "metadata": {},
     "output_type": "execute_result"
    }
   ],
   "source": [
    "s.find('s')"
   ]
  },
  {
   "cell_type": "code",
   "execution_count": 9,
   "id": "0eaa9978-0555-4bc8-9510-4ce6bcb8747f",
   "metadata": {},
   "outputs": [
    {
     "data": {
      "text/plain": [
       "'sudh'"
      ]
     },
     "execution_count": 9,
     "metadata": {},
     "output_type": "execute_result"
    }
   ],
   "source": [
    "s"
   ]
  },
  {
   "cell_type": "code",
   "execution_count": 10,
   "id": "2a6646d3-ab09-4584-b3ee-e3d17fe559a6",
   "metadata": {},
   "outputs": [
    {
     "data": {
      "text/plain": [
       "-1"
      ]
     },
     "execution_count": 10,
     "metadata": {},
     "output_type": "execute_result"
    }
   ],
   "source": [
    "s.find('S')"
   ]
  },
  {
   "cell_type": "code",
   "execution_count": 11,
   "id": "c5e8b995-10e2-4cb5-ae28-3d5a2bee7ff1",
   "metadata": {},
   "outputs": [],
   "source": [
    "s2 = \"pwskills\""
   ]
  },
  {
   "cell_type": "code",
   "execution_count": 12,
   "id": "ff029438-631c-4463-9444-fd2effb248a3",
   "metadata": {},
   "outputs": [
    {
     "data": {
      "text/plain": [
       "5"
      ]
     },
     "execution_count": 12,
     "metadata": {},
     "output_type": "execute_result"
    }
   ],
   "source": [
    "s2.find('l')"
   ]
  },
  {
   "cell_type": "code",
   "execution_count": 13,
   "id": "06b17b59-3256-4313-be63-e82b0af2ecc0",
   "metadata": {},
   "outputs": [
    {
     "data": {
      "text/plain": [
       "2"
      ]
     },
     "execution_count": 13,
     "metadata": {},
     "output_type": "execute_result"
    }
   ],
   "source": [
    "s2.find('sk')"
   ]
  },
  {
   "cell_type": "code",
   "execution_count": 14,
   "id": "efdd8062-d495-413f-abeb-9c6d0a537c4c",
   "metadata": {},
   "outputs": [
    {
     "data": {
      "text/plain": [
       "2"
      ]
     },
     "execution_count": 14,
     "metadata": {},
     "output_type": "execute_result"
    }
   ],
   "source": [
    "s2.count('l')"
   ]
  },
  {
   "cell_type": "code",
   "execution_count": 15,
   "id": "7fbd50b5-b82e-4cae-bea0-d9152607e4f5",
   "metadata": {},
   "outputs": [
    {
     "data": {
      "text/plain": [
       "'pwskills'"
      ]
     },
     "execution_count": 15,
     "metadata": {},
     "output_type": "execute_result"
    }
   ],
   "source": [
    "s2"
   ]
  },
  {
   "cell_type": "code",
   "execution_count": 16,
   "id": "9435fa0d-b652-4f22-aeba-a530a12b63d1",
   "metadata": {},
   "outputs": [
    {
     "data": {
      "text/plain": [
       "0"
      ]
     },
     "execution_count": 16,
     "metadata": {},
     "output_type": "execute_result"
    }
   ],
   "source": [
    "s2.count('z')"
   ]
  },
  {
   "cell_type": "code",
   "execution_count": 17,
   "id": "9c239b19-d414-4e96-8656-d34afe45e966",
   "metadata": {},
   "outputs": [
    {
     "data": {
      "text/plain": [
       "'pwskills'"
      ]
     },
     "execution_count": 17,
     "metadata": {},
     "output_type": "execute_result"
    }
   ],
   "source": [
    "s2"
   ]
  },
  {
   "cell_type": "code",
   "execution_count": 18,
   "id": "a46e0457-04ec-4900-a5d1-6dd291aa2303",
   "metadata": {},
   "outputs": [
    {
     "data": {
      "text/plain": [
       "'PWSKILLS'"
      ]
     },
     "execution_count": 18,
     "metadata": {},
     "output_type": "execute_result"
    }
   ],
   "source": [
    "s2.upper()"
   ]
  },
  {
   "cell_type": "code",
   "execution_count": 19,
   "id": "3f956dd3-d6ce-4ca6-b28a-5726bd29c006",
   "metadata": {},
   "outputs": [
    {
     "data": {
      "text/plain": [
       "'pwskills'"
      ]
     },
     "execution_count": 19,
     "metadata": {},
     "output_type": "execute_result"
    }
   ],
   "source": [
    "s2"
   ]
  },
  {
   "cell_type": "code",
   "execution_count": 20,
   "id": "d148019b-aef8-437e-9c58-702543f0472b",
   "metadata": {},
   "outputs": [],
   "source": [
    "s3 = \"CollegeWallah\""
   ]
  },
  {
   "cell_type": "code",
   "execution_count": 21,
   "id": "bf2d0cd7-e74d-4fbb-ae98-1113be017129",
   "metadata": {},
   "outputs": [
    {
     "data": {
      "text/plain": [
       "'collegewallah'"
      ]
     },
     "execution_count": 21,
     "metadata": {},
     "output_type": "execute_result"
    }
   ],
   "source": [
    "s3 = s3.lower()"
   ]
  },
  {
   "cell_type": "code",
   "execution_count": 22,
   "id": "ce59c2d0-6693-4083-8d5e-00f9756a4436",
   "metadata": {},
   "outputs": [
    {
     "data": {
      "text/plain": [
       "'COLLEGEWALLAH'"
      ]
     },
     "execution_count": 22,
     "metadata": {},
     "output_type": "execute_result"
    }
   ],
   "source": [
    "s3.upper()"
   ]
  },
  {
   "cell_type": "code",
   "execution_count": 23,
   "id": "c90bdf14-671f-4b4e-a02a-8d34027feb98",
   "metadata": {},
   "outputs": [
    {
     "data": {
      "text/plain": [
       "'CollegeWallah'"
      ]
     },
     "execution_count": 23,
     "metadata": {},
     "output_type": "execute_result"
    }
   ],
   "source": [
    "s3"
   ]
  },
  {
   "cell_type": "code",
   "execution_count": 24,
   "id": "a616901a-220f-46b0-8c4b-c2429055b1bc",
   "metadata": {},
   "outputs": [
    {
     "data": {
      "text/plain": [
       "'CollegeWallah'"
      ]
     },
     "execution_count": 24,
     "metadata": {},
     "output_type": "execute_result"
    }
   ],
   "source": [
    "s3"
   ]
  },
  {
   "cell_type": "code",
   "execution_count": 25,
   "id": "c2137fb2-2694-4184-bbb8-a670ec247bda",
   "metadata": {},
   "outputs": [
    {
     "data": {
      "text/plain": [
       "'cOLLEGEwALLAH'"
      ]
     },
     "execution_count": 25,
     "metadata": {},
     "output_type": "execute_result"
    }
   ],
   "source": [
    "s3.swapcase()"
   ]
  },
  {
   "cell_type": "code",
   "execution_count": 26,
   "id": "2d62ab99-0ca2-4add-8ce9-e11b54186cd3",
   "metadata": {},
   "outputs": [
    {
     "data": {
      "text/plain": [
       "'Collegewallah'"
      ]
     },
     "execution_count": 26,
     "metadata": {},
     "output_type": "execute_result"
    }
   ],
   "source": [
    "s3.title()"
   ]
  },
  {
   "cell_type": "code",
   "execution_count": 27,
   "id": "6f7e4024-327e-4403-9506-2124ef6a9c86",
   "metadata": {},
   "outputs": [
    {
     "data": {
      "text/plain": [
       "'pwskills'"
      ]
     },
     "execution_count": 27,
     "metadata": {},
     "output_type": "execute_result"
    }
   ],
   "source": [
    "s2"
   ]
  },
  {
   "cell_type": "code",
   "execution_count": 28,
   "id": "27ed297e-efb9-49fa-9579-876b98881ffe",
   "metadata": {},
   "outputs": [
    {
     "data": {
      "text/plain": [
       "'this is my string inbuilt class'"
      ]
     },
     "execution_count": 28,
     "metadata": {},
     "output_type": "execute_result"
    }
   ],
   "source": [
    "s1"
   ]
  },
  {
   "cell_type": "code",
   "execution_count": 29,
   "id": "e507fc54-3824-4ddc-bcdf-68f3ce466541",
   "metadata": {},
   "outputs": [
    {
     "data": {
      "text/plain": [
       "'This Is My String Inbuilt Class'"
      ]
     },
     "execution_count": 29,
     "metadata": {},
     "output_type": "execute_result"
    }
   ],
   "source": [
    "s1.title()"
   ]
  },
  {
   "cell_type": "code",
   "execution_count": 30,
   "id": "fc34c107-b83c-4229-95d6-d4b317b86fbc",
   "metadata": {},
   "outputs": [
    {
     "data": {
      "text/plain": [
       "'This is my string inbuilt class'"
      ]
     },
     "execution_count": 30,
     "metadata": {},
     "output_type": "execute_result"
    }
   ],
   "source": [
    "s1.capitalize()"
   ]
  },
  {
   "cell_type": "code",
   "execution_count": null,
   "id": "5943caa3-202b-46fe-9f58-fdf37f66fa49",
   "metadata": {},
   "outputs": [],
   "source": []
  }
 ],
 "metadata": {
  "kernelspec": {
   "display_name": "Python 3 (ipykernel)",
   "language": "python",
   "name": "python3"
  },
  "language_info": {
   "codemirror_mode": {
    "name": "ipython",
    "version": 3
   },
   "file_extension": ".py",
   "mimetype": "text/x-python",
   "name": "python",
   "nbconvert_exporter": "python",
   "pygments_lexer": "ipython3",
   "version": "3.10.8"
  }
 },
 "nbformat": 4,
 "nbformat_minor": 5
}
